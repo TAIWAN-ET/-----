{
 "cells": [
  {
   "cell_type": "code",
   "execution_count": 1,
   "metadata": {},
   "outputs": [
    {
     "name": "stdout",
     "output_type": "stream",
     "text": [
      "Using device: cuda\n"
     ]
    }
   ],
   "source": [
    "import pandas as pd\n",
    "import numpy as np\n",
    "import torch  # Add this import\n",
    "import torch.nn as nn\n",
    "import torch.optim as optim\n",
    "# Move model and data to GPU if available\n",
    "device = torch.device('cuda' if torch.cuda.is_available() else 'cpu')\n",
    "print('Using device:', device)\n",
    "# Make numpy values easier to read.\n",
    "np.set_printoptions(precision=3, suppress=True)\n",
    "\n",
    "aicup_train = pd.read_csv(r\"C:\\Users\\et\\Desktop\\新增資料夾\\aicup\\analysised.csv\")\n",
    "aicup_train.drop(columns=['Unnamed: 0',\"DateTime\"], inplace=True)\n",
    "aicup_train_features = aicup_train.drop(columns=[\"Power(mW)\"])\n",
    "aicup_train_target = aicup_train[\"Power(mW)\"]\n",
    "# Define the model\n",
    "class PredictModel(nn.Module):\n",
    "    def __init__(self):\n",
    "        super(PredictModel, self).__init__()\n",
    "        self.fc1 = nn.Linear(aicup_train_features.shape[1], 1024)\n",
    "        self.fc2 = nn.Linear(1024,1024)\n",
    "        self.fc3 = nn.Linear(1024, 1024)\n",
    "        self.fc4 = nn.Linear(1024, 1024)\n",
    "        self.fc5 = nn.Linear(1024, 1024)\n",
    "        self.fc6 = nn.Linear(1024, 64)\n",
    "        self.fc7 = nn.Linear(64, 64)\n",
    "        self.fc8 = nn.Linear(64, 64)\n",
    "        self.fc9 = nn.Linear(64, 64)\n",
    "        self.fc10 = nn.Linear(64, 64)\n",
    "        self.fc11= nn.Linear(64, 64)\n",
    "        self.fc12 = nn.Linear(64, 64)\n",
    "        self.fc13 = nn.Linear(64, 64)\n",
    "        self.fc14 = nn.Linear(64, 1)\n",
    "\n",
    "    def forward(self, x):\n",
    "        x = torch.relu(self.fc1(x))\n",
    "        x = self.fc2(x)\n",
    "        return x\n",
    "\n",
    "predict_model = PredictModel().cuda()\n",
    "\n",
    "# Define loss function and optimizer\n",
    "criterion = nn.MSELoss()\n",
    "optimizer = optim.Adam(predict_model.parameters(), lr=0.001)\n",
    "\n"
   ]
  },
  {
   "cell_type": "code",
   "execution_count": 2,
   "metadata": {},
   "outputs": [
    {
     "data": {
      "text/plain": [
       "'2.4.1+cu121'"
      ]
     },
     "execution_count": 2,
     "metadata": {},
     "output_type": "execute_result"
    }
   ],
   "source": [
    "torch.__version__"
   ]
  },
  {
   "cell_type": "code",
   "execution_count": 3,
   "metadata": {},
   "outputs": [
    {
     "name": "stdout",
     "output_type": "stream",
     "text": [
      "Training features shape: (847600, 4)\n",
      "Testing features shape: (211901, 4)\n",
      "Training target shape: (847600,)\n",
      "Testing target shape: (211901,)\n"
     ]
    }
   ],
   "source": [
    "from sklearn.model_selection import train_test_split\n",
    "\n",
    "# Split the data into training and testing sets\n",
    "X_train, X_test, y_train, y_test = train_test_split(aicup_train_features, aicup_train_target, test_size=0.2, random_state=42)\n",
    "\n",
    "print(f\"Training features shape: {X_train.shape}\")\n",
    "print(f\"Testing features shape: {X_test.shape}\")\n",
    "print(f\"Training target shape: {y_train.shape}\")\n",
    "print(f\"Testing target shape: {y_test.shape}\")"
   ]
  },
  {
   "cell_type": "code",
   "execution_count": 4,
   "metadata": {},
   "outputs": [
    {
     "name": "stderr",
     "output_type": "stream",
     "text": [
      "c:\\Users\\et\\Desktop\\新增資料夾\\.conda\\Lib\\site-packages\\torch\\nn\\modules\\loss.py:538: UserWarning: Using a target size (torch.Size([847600, 1])) that is different to the input size (torch.Size([847600, 1024])). This will likely lead to incorrect results due to broadcasting. Please ensure they have the same size.\n",
      "  return F.mse_loss(input, target, reduction=self.reduction)\n"
     ]
    },
    {
     "name": "stdout",
     "output_type": "stream",
     "text": [
      "Epoch [1/1000], Loss: 2675892.0000\n",
      "Epoch [2/1000], Loss: 1047186.4375\n",
      "Epoch [3/1000], Loss: 616521.8125\n",
      "Epoch [4/1000], Loss: 878062.0625\n",
      "Epoch [5/1000], Loss: 1045450.2500\n",
      "Epoch [6/1000], Loss: 799145.6875\n",
      "Epoch [7/1000], Loss: 470004.8438\n",
      "Epoch [8/1000], Loss: 339103.9688\n",
      "Epoch [9/1000], Loss: 393101.6562\n",
      "Epoch [10/1000], Loss: 435345.4375\n",
      "Epoch [11/1000], Loss: 374668.7500\n",
      "Epoch [12/1000], Loss: 278855.2188\n",
      "Epoch [13/1000], Loss: 234362.0938\n",
      "Epoch [14/1000], Loss: 243571.1406\n",
      "Epoch [15/1000], Loss: 247316.0469\n",
      "Epoch [16/1000], Loss: 212949.7812\n",
      "Epoch [17/1000], Loss: 164021.9219\n",
      "Epoch [18/1000], Loss: 136894.1406\n",
      "Epoch [19/1000], Loss: 135699.5156\n",
      "Epoch [20/1000], Loss: 137402.4688\n",
      "Epoch [21/1000], Loss: 126032.8047\n",
      "Epoch [22/1000], Loss: 106970.7031\n",
      "Epoch [23/1000], Loss: 92472.2891\n",
      "Epoch [24/1000], Loss: 84762.5156\n",
      "Epoch [25/1000], Loss: 77970.6641\n",
      "Epoch [26/1000], Loss: 69653.9688\n",
      "Epoch [27/1000], Loss: 62802.2852\n",
      "Epoch [28/1000], Loss: 58792.3047\n",
      "Epoch [29/1000], Loss: 54573.0195\n",
      "Epoch [30/1000], Loss: 47986.1172\n",
      "Epoch [31/1000], Loss: 41525.3789\n",
      "Epoch [32/1000], Loss: 38401.6953\n",
      "Epoch [33/1000], Loss: 37428.7266\n",
      "Epoch [34/1000], Loss: 34767.1680\n",
      "Epoch [35/1000], Loss: 29581.3301\n",
      "Epoch [36/1000], Loss: 24885.2910\n",
      "Epoch [37/1000], Loss: 22968.3281\n",
      "Epoch [38/1000], Loss: 22559.7832\n",
      "Epoch [39/1000], Loss: 21322.6426\n",
      "Epoch [40/1000], Loss: 18996.9316\n"
     ]
    },
    {
     "ename": "KeyboardInterrupt",
     "evalue": "",
     "output_type": "error",
     "traceback": [
      "\u001b[1;31m---------------------------------------------------------------------------\u001b[0m",
      "\u001b[1;31mKeyboardInterrupt\u001b[0m                         Traceback (most recent call last)",
      "Cell \u001b[1;32mIn[4], line 20\u001b[0m\n\u001b[0;32m     17\u001b[0m optimizer\u001b[38;5;241m.\u001b[39mstep()\n\u001b[0;32m     19\u001b[0m \u001b[38;5;28;01mif\u001b[39;00m (epoch\u001b[38;5;241m+\u001b[39m\u001b[38;5;241m1\u001b[39m) \u001b[38;5;241m%\u001b[39m \u001b[38;5;241m1\u001b[39m \u001b[38;5;241m==\u001b[39m \u001b[38;5;241m0\u001b[39m:\n\u001b[1;32m---> 20\u001b[0m     \u001b[38;5;28mprint\u001b[39m(\u001b[38;5;124mf\u001b[39m\u001b[38;5;124m'\u001b[39m\u001b[38;5;124mEpoch [\u001b[39m\u001b[38;5;132;01m{\u001b[39;00mepoch\u001b[38;5;241m+\u001b[39m\u001b[38;5;241m1\u001b[39m\u001b[38;5;132;01m}\u001b[39;00m\u001b[38;5;124m/\u001b[39m\u001b[38;5;132;01m{\u001b[39;00mnum_epochs\u001b[38;5;132;01m}\u001b[39;00m\u001b[38;5;124m], Loss: \u001b[39m\u001b[38;5;132;01m{\u001b[39;00m\u001b[43mloss\u001b[49m\u001b[38;5;241;43m.\u001b[39;49m\u001b[43mitem\u001b[49m\u001b[43m(\u001b[49m\u001b[43m)\u001b[49m\u001b[38;5;132;01m:\u001b[39;00m\u001b[38;5;124m.4f\u001b[39m\u001b[38;5;132;01m}\u001b[39;00m\u001b[38;5;124m'\u001b[39m)\n",
      "\u001b[1;31mKeyboardInterrupt\u001b[0m: "
     ]
    }
   ],
   "source": [
    "# Convert the training data to PyTorch tensors and move to the same device as the model\n",
    "X_train_tensor = torch.tensor(X_train.values, dtype=torch.float32).to(device)\n",
    "y_train_tensor = torch.tensor(y_train.values, dtype=torch.float32).view(-1, 1).to(device)\n",
    "\n",
    "# Training loop\n",
    "\n",
    "num_epochs = 1000\n",
    "\n",
    "for epoch in range(num_epochs):\n",
    "    # Forward pass\n",
    "    outputs = predict_model(X_train_tensor)\n",
    "    loss = criterion(outputs, y_train_tensor)\n",
    "    \n",
    "    # Backward pass and optimization\n",
    "    optimizer.zero_grad()\n",
    "    loss.backward()\n",
    "    optimizer.step()\n",
    "    \n",
    "    if (epoch+1) % 1 == 0:\n",
    "        print(f'Epoch [{epoch+1}/{num_epochs}], Loss: {loss.item():.4f}')"
   ]
  },
  {
   "cell_type": "code",
   "execution_count": 5,
   "metadata": {},
   "outputs": [
    {
     "name": "stdout",
     "output_type": "stream",
     "text": [
      "Test Loss: 808.8356\n"
     ]
    },
    {
     "name": "stderr",
     "output_type": "stream",
     "text": [
      "c:\\Users\\et\\Desktop\\新增資料夾\\.conda\\Lib\\site-packages\\torch\\nn\\modules\\loss.py:538: UserWarning: Using a target size (torch.Size([211901, 1])) that is different to the input size (torch.Size([211901, 64])). This will likely lead to incorrect results due to broadcasting. Please ensure they have the same size.\n",
      "  return F.mse_loss(input, target, reduction=self.reduction)\n"
     ]
    }
   ],
   "source": [
    "import torch\n",
    "\n",
    "# Convert the testing data to PyTorch tensors and move to the same device as the model\n",
    "X_test_tensor = torch.tensor(X_test.values, dtype=torch.float32).to(device)\n",
    "y_test_tensor = torch.tensor(y_test.values, dtype=torch.float32).view(-1, 1).to(device)\n",
    "\n",
    "# Set the model to evaluation mode\n",
    "predict_model.eval()\n",
    "\n",
    "# Forward pass on the test set\n",
    "with torch.no_grad():\n",
    "    test_outputs = predict_model(X_test_tensor)\n",
    "    test_loss = criterion(test_outputs, y_test_tensor)\n",
    "\n",
    "print(f'Test Loss: {test_loss.item():.4f}')"
   ]
  }
 ],
 "metadata": {
  "kernelspec": {
   "display_name": "Python 3",
   "language": "python",
   "name": "python3"
  },
  "language_info": {
   "codemirror_mode": {
    "name": "ipython",
    "version": 3
   },
   "file_extension": ".py",
   "mimetype": "text/x-python",
   "name": "python",
   "nbconvert_exporter": "python",
   "pygments_lexer": "ipython3",
   "version": "3.11.9"
  }
 },
 "nbformat": 4,
 "nbformat_minor": 2
}
