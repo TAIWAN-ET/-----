{
 "cells": [
  {
   "cell_type": "code",
   "execution_count": 1,
   "metadata": {},
   "outputs": [],
   "source": [
    "import os\n",
    "import random\n",
    "import pandas as pd #導入pandas函式庫(用於資料處理)\n",
    "import numpy as np\n",
    "import matplotlib.pyplot as plt#導入matplotlib函式庫(用於繪圖)\n",
    "import seaborn as sns#導入seaborn函式庫(用於繪圖)\n",
    "#導入各種函式庫"
   ]
  },
  {
   "cell_type": "code",
   "execution_count": 2,
   "metadata": {},
   "outputs": [],
   "source": [
    "SEED = 42\n",
    "random.seed(SEED)\n",
    "np.random.seed(SEED)\n",
    "os.environ['PYTHONHASHSEED'] = str(SEED)"
   ]
  },
  {
   "cell_type": "markdown",
   "metadata": {},
   "source": [
    "讀取全部資料並合併"
   ]
  },
  {
   "cell_type": "code",
   "execution_count": 3,
   "metadata": {},
   "outputs": [
    {
     "name": "stdout",
     "output_type": "stream",
     "text": [
      "        LocationCode            DateTime  WindSpeed(m/s)  Pressure(hpa)  \\\n",
      "0                  1 2024-01-01 06:31:08             0.0        1016.50   \n",
      "1                  1 2024-01-01 06:32:08             0.0        1016.53   \n",
      "2                  1 2024-01-01 06:33:08             0.0        1016.57   \n",
      "3                  1 2024-01-01 06:34:08             0.0        1016.58   \n",
      "4                  1 2024-01-01 06:35:08             0.0        1016.59   \n",
      "...              ...                 ...             ...            ...   \n",
      "101668             1 2024-07-24 18:17:07             0.0         959.80   \n",
      "101669             1 2024-07-24 18:18:07             0.0         959.92   \n",
      "101670             1 2024-07-24 18:19:07             0.0         960.09   \n",
      "101671             1 2024-07-24 18:20:07             0.0         959.40   \n",
      "101672             1 2024-07-24 18:21:07             0.0         959.02   \n",
      "\n",
      "        Temperature(°C)  Humidity(%)  Sunlight(Lux)  Power(mW)  \n",
      "0                  17.5         86.8          25.00        0.0  \n",
      "1                  17.5         86.7          28.33        0.0  \n",
      "2                  17.5         86.7          32.50        0.0  \n",
      "3                  17.5         86.7          39.17        0.0  \n",
      "4                  17.5         86.7          45.83        0.0  \n",
      "...                 ...          ...            ...        ...  \n",
      "101668             25.1        100.0          23.33        0.0  \n",
      "101669             25.1        100.0          23.33        0.0  \n",
      "101670             25.1        100.0          33.33        0.0  \n",
      "101671             25.1        100.0          40.00        0.0  \n",
      "101672             25.0        100.0          20.00        0.0  \n",
      "\n",
      "[101673 rows x 8 columns]\n"
     ]
    }
   ],
   "source": [
    "df = pd.read_csv('Data/36_TrainingData/L1_Train.csv')\n",
    "\n",
    "# 將DataTime欄位轉換為datetime格式\n",
    "df['DateTime'] = pd.to_datetime(df['DateTime'])\n",
    "\n",
    "# 顯示轉換後的數據\n",
    "print(df)\n",
    "df.to_csv('Data/36_TrainingData/L1_Train.csv', index=False)"
   ]
  },
  {
   "cell_type": "code",
   "execution_count": null,
   "metadata": {},
   "outputs": [],
   "source": [
    "train_file_paths = [f'Data/36_TrainingData/L{i}_Train.csv' for i in range(1, 18)]#讀取全部訓練資料\n",
    "df_list = [pd.read_csv(file) for file in train_file_paths]\n",
    "df_data = pd.concat(df_list, ignore_index=True)#將訓練資料合併\n",
    "df_all_data = pd.concat(df_list, ignore_index=True)"
   ]
  },
  {
   "cell_type": "markdown",
   "metadata": {},
   "source": [
    "讀取單一資料"
   ]
  },
  {
   "cell_type": "code",
   "execution_count": 5,
   "metadata": {},
   "outputs": [
    {
     "name": "stdout",
     "output_type": "stream",
     "text": [
      "已讀取第1筆資料\n"
     ]
    }
   ],
   "source": [
    "i = input('請輸入要讀取的資料編號(1~17):')\n",
    "while i.isdigit() == False or int(i) < 1 or int(i) > 17:\n",
    "    i = input('輸入錯誤，請重新輸入:')\n",
    "    \n",
    "train_file_paths_single = f'Data/36_TrainingData/L{i}_Train.csv'#讀取單一資料\n",
    "df_data = pd.read_csv(train_file_paths_single)\n",
    "print(f'已讀取第{i}筆資料')"
   ]
  },
  {
   "cell_type": "code",
   "execution_count": 6,
   "metadata": {},
   "outputs": [
    {
     "data": {
      "text/html": [
       "<div>\n",
       "<style scoped>\n",
       "    .dataframe tbody tr th:only-of-type {\n",
       "        vertical-align: middle;\n",
       "    }\n",
       "\n",
       "    .dataframe tbody tr th {\n",
       "        vertical-align: top;\n",
       "    }\n",
       "\n",
       "    .dataframe thead th {\n",
       "        text-align: right;\n",
       "    }\n",
       "</style>\n",
       "<table border=\"1\" class=\"dataframe\">\n",
       "  <thead>\n",
       "    <tr style=\"text-align: right;\">\n",
       "      <th></th>\n",
       "      <th>LocationCode</th>\n",
       "      <th>DateTime</th>\n",
       "      <th>WindSpeed(m/s)</th>\n",
       "      <th>Pressure(hpa)</th>\n",
       "      <th>Temperature(°C)</th>\n",
       "      <th>Humidity(%)</th>\n",
       "      <th>Sunlight(Lux)</th>\n",
       "      <th>Power(mW)</th>\n",
       "    </tr>\n",
       "  </thead>\n",
       "  <tbody>\n",
       "    <tr>\n",
       "      <th>count</th>\n",
       "      <td>101673.0</td>\n",
       "      <td>101673</td>\n",
       "      <td>101673.000000</td>\n",
       "      <td>101673.000000</td>\n",
       "      <td>101673.000000</td>\n",
       "      <td>101673.000000</td>\n",
       "      <td>101673.000000</td>\n",
       "      <td>101673.000000</td>\n",
       "    </tr>\n",
       "    <tr>\n",
       "      <th>mean</th>\n",
       "      <td>1.0</td>\n",
       "      <td>2024-04-13 23:57:04.555093504</td>\n",
       "      <td>0.297305</td>\n",
       "      <td>1008.546454</td>\n",
       "      <td>30.261133</td>\n",
       "      <td>73.025531</td>\n",
       "      <td>25773.275297</td>\n",
       "      <td>279.332067</td>\n",
       "    </tr>\n",
       "    <tr>\n",
       "      <th>min</th>\n",
       "      <td>1.0</td>\n",
       "      <td>2024-01-01 06:31:08</td>\n",
       "      <td>0.000000</td>\n",
       "      <td>958.150000</td>\n",
       "      <td>2.000000</td>\n",
       "      <td>18.900000</td>\n",
       "      <td>20.000000</td>\n",
       "      <td>0.000000</td>\n",
       "    </tr>\n",
       "    <tr>\n",
       "      <th>25%</th>\n",
       "      <td>1.0</td>\n",
       "      <td>2024-02-12 09:15:21</td>\n",
       "      <td>0.000000</td>\n",
       "      <td>1003.480000</td>\n",
       "      <td>22.500000</td>\n",
       "      <td>48.300000</td>\n",
       "      <td>4067.500000</td>\n",
       "      <td>3.880000</td>\n",
       "    </tr>\n",
       "    <tr>\n",
       "      <th>50%</th>\n",
       "      <td>1.0</td>\n",
       "      <td>2024-04-26 13:16:36</td>\n",
       "      <td>0.000000</td>\n",
       "      <td>1007.350000</td>\n",
       "      <td>29.000000</td>\n",
       "      <td>75.900000</td>\n",
       "      <td>13659.170000</td>\n",
       "      <td>39.280000</td>\n",
       "    </tr>\n",
       "    <tr>\n",
       "      <th>75%</th>\n",
       "      <td>1.0</td>\n",
       "      <td>2024-06-05 18:27:36</td>\n",
       "      <td>0.000000</td>\n",
       "      <td>1013.070000</td>\n",
       "      <td>37.800000</td>\n",
       "      <td>100.000000</td>\n",
       "      <td>36855.700000</td>\n",
       "      <td>279.810000</td>\n",
       "    </tr>\n",
       "    <tr>\n",
       "      <th>max</th>\n",
       "      <td>1.0</td>\n",
       "      <td>2024-07-24 18:21:07</td>\n",
       "      <td>8.880000</td>\n",
       "      <td>9014.550000</td>\n",
       "      <td>61.800000</td>\n",
       "      <td>300.000000</td>\n",
       "      <td>117758.200000</td>\n",
       "      <td>2598.450000</td>\n",
       "    </tr>\n",
       "    <tr>\n",
       "      <th>std</th>\n",
       "      <td>0.0</td>\n",
       "      <td>NaN</td>\n",
       "      <td>0.783864</td>\n",
       "      <td>55.869739</td>\n",
       "      <td>9.809827</td>\n",
       "      <td>25.826234</td>\n",
       "      <td>29399.684979</td>\n",
       "      <td>479.481327</td>\n",
       "    </tr>\n",
       "  </tbody>\n",
       "</table>\n",
       "</div>"
      ],
      "text/plain": [
       "       LocationCode                       DateTime  WindSpeed(m/s)  \\\n",
       "count      101673.0                         101673   101673.000000   \n",
       "mean            1.0  2024-04-13 23:57:04.555093504        0.297305   \n",
       "min             1.0            2024-01-01 06:31:08        0.000000   \n",
       "25%             1.0            2024-02-12 09:15:21        0.000000   \n",
       "50%             1.0            2024-04-26 13:16:36        0.000000   \n",
       "75%             1.0            2024-06-05 18:27:36        0.000000   \n",
       "max             1.0            2024-07-24 18:21:07        8.880000   \n",
       "std             0.0                            NaN        0.783864   \n",
       "\n",
       "       Pressure(hpa)  Temperature(°C)    Humidity(%)  Sunlight(Lux)  \\\n",
       "count  101673.000000    101673.000000  101673.000000  101673.000000   \n",
       "mean     1008.546454        30.261133      73.025531   25773.275297   \n",
       "min       958.150000         2.000000      18.900000      20.000000   \n",
       "25%      1003.480000        22.500000      48.300000    4067.500000   \n",
       "50%      1007.350000        29.000000      75.900000   13659.170000   \n",
       "75%      1013.070000        37.800000     100.000000   36855.700000   \n",
       "max      9014.550000        61.800000     300.000000  117758.200000   \n",
       "std        55.869739         9.809827      25.826234   29399.684979   \n",
       "\n",
       "           Power(mW)  \n",
       "count  101673.000000  \n",
       "mean      279.332067  \n",
       "min         0.000000  \n",
       "25%         3.880000  \n",
       "50%        39.280000  \n",
       "75%       279.810000  \n",
       "max      2598.450000  \n",
       "std       479.481327  "
      ]
     },
     "execution_count": 6,
     "metadata": {},
     "output_type": "execute_result"
    }
   ],
   "source": [
    "df_data[\"DateTime\"] = pd.to_datetime(df_data[\"DateTime\"])#將時間轉換為pandas的時間格式\n",
    "df_data.describe()#顯示資料的描述性統計\n",
    "#df_data.isnull().sum(axis=0)"
   ]
  },
  {
   "cell_type": "code",
   "execution_count": null,
   "metadata": {},
   "outputs": [],
   "source": [
    "# correlation 計算\n",
    "corr = df_data[['WindSpeed(m/s)', 'Pressure(hpa)', 'Temperature(°C)', 'Humidity(%)', 'Sunlight(Lux)', 'Power(mW)']].corr()\n",
    "plt.figure(figsize=(8,8))\n",
    "sns.heatmap(corr, square=True, annot=True, cmap=\"RdBu_r\")"
   ]
  },
  {
   "cell_type": "code",
   "execution_count": null,
   "metadata": {},
   "outputs": [],
   "source": [
    "#df_data = df_data.drop(columns=['WindSpeed(m/s)', 'Pressure(hpa)'])\n"
   ]
  },
  {
   "cell_type": "code",
   "execution_count": null,
   "metadata": {},
   "outputs": [],
   "source": [
    "df_data.boxplot(column=['Temperature(°C)'], figsize=(10, 10))"
   ]
  },
  {
   "cell_type": "code",
   "execution_count": null,
   "metadata": {},
   "outputs": [],
   "source": [
    "df_data.boxplot(column=['Humidity(%)'], figsize=(10, 10))"
   ]
  },
  {
   "cell_type": "code",
   "execution_count": null,
   "metadata": {},
   "outputs": [],
   "source": [
    "df_data.boxplot(column=['Sunlight(Lux)'], figsize=(10, 10))"
   ]
  },
  {
   "cell_type": "code",
   "execution_count": null,
   "metadata": {},
   "outputs": [],
   "source": [
    "df_data.boxplot(column=['Power(mW)'], figsize=(10, 10))"
   ]
  },
  {
   "cell_type": "code",
   "execution_count": null,
   "metadata": {},
   "outputs": [],
   "source": [
    "df_data.to_csv(f'Analysised_TrainData/L{i}_Train_analysised.csv', index=False)\n",
    "df_all_data.to_csv(f'Analysised_TrainData/All_Train_analysised.csv', index=False)\n"
   ]
  }
 ],
 "metadata": {
  "kernelspec": {
   "display_name": "Python 3",
   "language": "python",
   "name": "python3"
  },
  "language_info": {
   "codemirror_mode": {
    "name": "ipython",
    "version": 3
   },
   "file_extension": ".py",
   "mimetype": "text/x-python",
   "name": "python",
   "nbconvert_exporter": "python",
   "pygments_lexer": "ipython3",
   "version": "3.11.9"
  }
 },
 "nbformat": 4,
 "nbformat_minor": 2
}
